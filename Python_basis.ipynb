{
  "nbformat": 4,
  "nbformat_minor": 0,
  "metadata": {
    "colab": {
      "provenance": []
    },
    "kernelspec": {
      "name": "python3",
      "display_name": "Python 3"
    },
    "language_info": {
      "name": "python"
    }
  },
  "cells": [
    {
      "cell_type": "markdown",
      "source": [
        "### **Python Basis**"
      ],
      "metadata": {
        "id": "0dL_HcVxwyS_"
      }
    },
    {
      "cell_type": "markdown",
      "source": [
        "1. What is Python, and why is it popular?\n",
        "- Python is the one the most popular language because it is very simple and easy to learn, easy to understand and write and also more python libraries available collection of pre-written codes that provide reusable functions, classes to perform specific tasks.\n",
        "\n",
        "2. What is an interpreter in Python?\n",
        "- A python interpreter is a computer program that converts each high level program language into machine code.\n",
        "\n",
        "3. What are pre-defined keywords in Python?\n",
        "- Key words are the reserved words in python that have special meaning and cannot be used as identifiers like names of variable , functions.\n",
        "\n",
        "4. Can keywords be used as variable names?\n",
        "- NO\n",
        "\n",
        "5. What is mutability in Python?\n",
        "- Certain data types like strings\n",
        "and tuples we cannot change after once we define them where as another data types like lists and dictionary we change/ modified  after creation so we call lists are mutable.\n",
        "\n",
        "6. Why are lists mutable, but tuples are immutable?\n",
        "\n",
        "-  The items in tuples we cannot change but in lists the items can be  modified.\n",
        "\n",
        "7.  What is the difference between “==” and “is” operators in Python?\n",
        "- \"==\" eqality operator is used  to compare the values of objects equal or not\n",
        " where as \"is\" Identity operator is used to check if different  variables point to same object.  \n",
        "\n",
        "8. What are logical operators in Python?\n",
        "- and , or , not are logical operators.\n",
        "\n",
        "9. What is type casting in Python?\n",
        "- To change the data type of a variable is called type casting for example a=5, is in integer data type we can change it to float we write b=float(a)\n",
        "-a=2\n",
        "-b=float(a)\n",
        "-print(b,type(b))\n",
        "-2.0 <class 'float'>\n",
        "\n",
        "10. What is the difference between implicit and explicit type casting?\n",
        "- Implicit type cating happens automaticlly, while explict type casting requires the programer to manually define the conversion.\n",
        "\n",
        "11. What is the purpose of conditional statements in Python?\n",
        "- Conditionals are use to excute code based on the evaluation of one or more conditions , The conditional statements in python are if, elif(else if), else are used to control the flow of excution.\n",
        "\n",
        "12. How does the elif statement work?\n",
        "- If the first statement is not true , but you want to check for another condition.\n",
        "\n",
        "\n",
        "13. What is the difference between for and while loops?\n",
        "- If you want to repeat or excute code for multiple times we use for loop,here we know how many times loops will run.\n",
        "and if want to excute code till particular condition we use while loop but when we dont know no. of iterations.\n",
        "\n",
        "14. Describe a scenario where a while loop is more suitable than a for loop?\n",
        "- If we want check the password entred by user is correct or not and max. no. of attempts are 3, but here we don't know how many times loop will run because it depends on user input in which attempt he will  enters correct password so we use while loop it will break when user enters correct password."
      ],
      "metadata": {
        "id": "TBiQQmTtxA92"
      }
    },
    {
      "cell_type": "code",
      "source": [
        "correct_password= \"savesoil30k\"\n",
        "max_attempts = 3\n",
        "count = 0\n",
        "\n",
        "while count<max_attempts:\n",
        "  user_input= input(\"Please enter password\")\n",
        "  if user_input==correct_password:\n",
        "    print(\"Access granted\")\n",
        "    break\n",
        "  else:\n",
        "    count+=1\n",
        "    print(f\"Incorrect password. {max_attempts - count} attempts remaining\")\n",
        "\n",
        "if max_attempts == count:\n",
        "  print(\" You have reached max. nno of attempts\")\n"
      ],
      "metadata": {
        "colab": {
          "base_uri": "https://localhost:8080/"
        },
        "id": "Bf50ESQ85aDa",
        "outputId": "d411be75-01b4-472d-85c7-2d6676d88b5d"
      },
      "execution_count": 2,
      "outputs": [
        {
          "output_type": "stream",
          "name": "stdout",
          "text": [
            "Please enter passwords\n",
            "Incorrect password. 2 attempts remaining\n",
            "Please enter passwords\n",
            "Incorrect password. 1 attempts remaining\n",
            "Please enter passwords\n",
            "Incorrect password. 0 attempts remaining\n",
            " You have reached max. nno of attempts\n"
          ]
        }
      ]
    },
    {
      "cell_type": "markdown",
      "source": [
        "# Practical Questions"
      ],
      "metadata": {
        "id": "mX1_7D6I-ruF"
      }
    },
    {
      "cell_type": "code",
      "source": [
        "# 1. Write a Python program to print \"Hello, World!\"?\n",
        "print(\"Hello,world!\")"
      ],
      "metadata": {
        "colab": {
          "base_uri": "https://localhost:8080/"
        },
        "id": "o0md9KWZ-yFP",
        "outputId": "4ec5c5c2-35cb-4185-9d5e-7d45c197db1b"
      },
      "execution_count": 3,
      "outputs": [
        {
          "output_type": "stream",
          "name": "stdout",
          "text": [
            "Hello,world!\n"
          ]
        }
      ]
    },
    {
      "cell_type": "code",
      "source": [
        "# 2. Write a Python program that displays your name and age0?\n",
        "name = \" H Shahsivardhan Reddy\"\n",
        "age=21\n",
        "print(f\" Name is {name},{age} years old\")"
      ],
      "metadata": {
        "colab": {
          "base_uri": "https://localhost:8080/"
        },
        "id": "L2YVT4pW_Di7",
        "outputId": "efb3e86e-0ea1-4350-b459-5a5c1da50d68"
      },
      "execution_count": 8,
      "outputs": [
        {
          "output_type": "stream",
          "name": "stdout",
          "text": [
            " Name is  H Shahsivardhan Reddy,21 years old\n"
          ]
        }
      ]
    },
    {
      "cell_type": "code",
      "source": [
        "# 3. Write code to print all the pre-defined keywords in Python using the keyword library?\n",
        "help()"
      ],
      "metadata": {
        "colab": {
          "base_uri": "https://localhost:8080/"
        },
        "id": "_NY6fk-u_yxZ",
        "outputId": "0e1fa291-24d5-482e-a41a-0990a8aa0e3b"
      },
      "execution_count": 9,
      "outputs": [
        {
          "output_type": "stream",
          "name": "stdout",
          "text": [
            "\n",
            "Welcome to Python 3.10's help utility!\n",
            "\n",
            "If this is your first time using Python, you should definitely check out\n",
            "the tutorial on the internet at https://docs.python.org/3.10/tutorial/.\n",
            "\n",
            "Enter the name of any module, keyword, or topic to get help on writing\n",
            "Python programs and using Python modules.  To quit this help utility and\n",
            "return to the interpreter, just type \"quit\".\n",
            "\n",
            "To get a list of available modules, keywords, symbols, or topics, type\n",
            "\"modules\", \"keywords\", \"symbols\", or \"topics\".  Each module also comes\n",
            "with a one-line summary of what it does; to list the modules whose name\n",
            "or summary contain a given string such as \"spam\", type \"modules spam\".\n",
            "\n",
            "\n",
            "Here is a list of the Python keywords.  Enter any keyword to get more help.\n",
            "\n",
            "False               class               from                or\n",
            "None                continue            global              pass\n",
            "True                def                 if                  raise\n",
            "and                 del                 import              return\n",
            "as                  elif                in                  try\n",
            "assert              else                is                  while\n",
            "async               except              lambda              with\n",
            "await               finally             nonlocal            yield\n",
            "break               for                 not                 \n",
            "\n",
            "\n",
            "You are now leaving help and returning to the Python interpreter.\n",
            "If you want to ask for help on a particular object directly from the\n",
            "interpreter, you can type \"help(object)\".  Executing \"help('string')\"\n",
            "has the same effect as typing a particular string at the help> prompt.\n"
          ]
        }
      ]
    },
    {
      "cell_type": "code",
      "source": [
        "#4.  Write a program that checks if a given word is a Python keyword?\n",
        "word = input(\"Enter a word\")\n",
        "\n",
        "import keyword\n",
        "\n",
        "if keyword.iskeyword(word):\n",
        "  print(\"yes\")\n",
        "else:\n",
        "  print(\"no\")\n"
      ],
      "metadata": {
        "colab": {
          "base_uri": "https://localhost:8080/"
        },
        "id": "86BLtL7xADaZ",
        "outputId": "8f63484f-038a-4d38-fda6-98f708d9b0a7"
      },
      "execution_count": 14,
      "outputs": [
        {
          "output_type": "stream",
          "name": "stdout",
          "text": [
            "Enter a wordif\n",
            "yes\n"
          ]
        }
      ]
    },
    {
      "cell_type": "code",
      "source": [
        "# 5. Create a list and tuple in Python, and demonstrate how attempting to change an element works differently for each?\n",
        "list=[1,2,3,4,5,6,7,8,\"shashi\", \"Savesoil\"]\n",
        "tuple=(1,2,3,\"Shivanga\")\n",
        "\n",
        "list[8]= \"Shiva\"\n",
        "#tuple[3]=\"Sadhana\"\n",
        "# In list we can change an element but in tuple if we try to change if will throw an error\n"
      ],
      "metadata": {
        "colab": {
          "base_uri": "https://localhost:8080/",
          "height": 180
        },
        "id": "9ebC5ZX-i17v",
        "outputId": "ac04db95-07f8-40a7-aba2-f04463a9744f"
      },
      "execution_count": 17,
      "outputs": [
        {
          "output_type": "error",
          "ename": "TypeError",
          "evalue": "'tuple' object does not support item assignment",
          "traceback": [
            "\u001b[0;31m---------------------------------------------------------------------------\u001b[0m",
            "\u001b[0;31mTypeError\u001b[0m                                 Traceback (most recent call last)",
            "\u001b[0;32m<ipython-input-17-300840c1cb28>\u001b[0m in \u001b[0;36m<cell line: 6>\u001b[0;34m()\u001b[0m\n\u001b[1;32m      4\u001b[0m \u001b[0;34m\u001b[0m\u001b[0m\n\u001b[1;32m      5\u001b[0m \u001b[0mlist\u001b[0m\u001b[0;34m[\u001b[0m\u001b[0;36m8\u001b[0m\u001b[0;34m]\u001b[0m\u001b[0;34m=\u001b[0m \u001b[0;34m\"Shiva\"\u001b[0m\u001b[0;34m\u001b[0m\u001b[0;34m\u001b[0m\u001b[0m\n\u001b[0;32m----> 6\u001b[0;31m \u001b[0mtuple\u001b[0m\u001b[0;34m[\u001b[0m\u001b[0;36m3\u001b[0m\u001b[0;34m]\u001b[0m\u001b[0;34m=\u001b[0m\u001b[0;34m\"Sadhana\"\u001b[0m\u001b[0;34m\u001b[0m\u001b[0;34m\u001b[0m\u001b[0m\n\u001b[0m",
            "\u001b[0;31mTypeError\u001b[0m: 'tuple' object does not support item assignment"
          ]
        }
      ]
    },
    {
      "cell_type": "code",
      "source": [
        "#6. Write a function to demonstrate the behavior of mutable and immutable arguments?\n",
        "def mutable_immutable(a_mutable,b_immutable):\n",
        "  a_mutable.append(10)\n",
        "  b_immutable+=10\n",
        "\n",
        "\n",
        "  print(\"Inside function\")\n",
        "  print(a_mutable,b_immutable)\n",
        "\n",
        "a_orginal =[1,2,3]\n",
        "b_orginal = 5\n",
        "mutable_immutable(a_orginal,b_orginal)\n",
        "\n",
        "print(\"After calling function\")\n",
        "print(a_orginal)\n",
        "print(b_orginal)\n",
        "\n",
        "# Here we try to change integer it creats new object where as in list the object it self change\n"
      ],
      "metadata": {
        "colab": {
          "base_uri": "https://localhost:8080/"
        },
        "id": "4lvbwYpQkMUf",
        "outputId": "c3871e44-5aba-4022-fa05-b5dad33ba2ce"
      },
      "execution_count": 18,
      "outputs": [
        {
          "output_type": "stream",
          "name": "stdout",
          "text": [
            "Inside function\n",
            "[1, 2, 3, 10] 15\n",
            "After calling function\n",
            "[1, 2, 3, 10]\n",
            "5\n"
          ]
        }
      ]
    },
    {
      "cell_type": "code",
      "source": [
        "#7. Write a function to demonstrate the behavior of mutable and immutable arguments // repeated question"
      ],
      "metadata": {
        "id": "S_LxbfQEurtq"
      },
      "execution_count": null,
      "outputs": []
    },
    {
      "cell_type": "code",
      "source": [
        "#8. Write a program to demonstrate the use of logical operators\n",
        "a=100\n",
        "b=15\n",
        "c=20\n",
        "\n",
        "if a>b and b>c:\n",
        "  print(f\"a>b and b>c both conditions are true\")\n",
        "else:\n",
        "  print(f\"a>b and b>c atleat one condition is false\")\n",
        "\n",
        "if a>b or b>c:\n",
        "  print(f\"a>b , b>c atleast one  condition true\")\n",
        "else:\n",
        "  print(f\"a>b , b>c both conditions are false\")"
      ],
      "metadata": {
        "colab": {
          "base_uri": "https://localhost:8080/"
        },
        "id": "EUvZ-RGqvECn",
        "outputId": "6d9304b2-8a1d-482e-88fe-52c017ec47ad"
      },
      "execution_count": 25,
      "outputs": [
        {
          "output_type": "stream",
          "name": "stdout",
          "text": [
            "a>b and b>c atleat one condition is false\n",
            "a>b , b>c atleast one  condition true\n"
          ]
        }
      ]
    },
    {
      "cell_type": "code",
      "source": [
        "#9. Write a Python program to convert user input from string to integer, float, and boolean types\n",
        "\n",
        "user_input_str_int= int(input(\" Enter a number\"))\n",
        "user_input_str_float= float(input(\" Enter a number\"))\n",
        "user_input_str_boolean= bool(input(\" Enter a number\"))\n",
        "\n",
        "print(user_input_str_int)\n",
        "print(user_input_str_float)\n",
        "print(user_input_str_boolean) # IF STRING IS EMPTY IT RETURNS FALSE OTHERWISE ALWAYS IT WILL RETURN TRUE\n",
        "\n"
      ],
      "metadata": {
        "colab": {
          "base_uri": "https://localhost:8080/"
        },
        "id": "7WoRYdedyUB8",
        "outputId": "65d0040c-e3d0-4398-c62f-d61142901853"
      },
      "execution_count": 4,
      "outputs": [
        {
          "output_type": "stream",
          "name": "stdout",
          "text": [
            " Enter a number7\n",
            " Enter a number5\n",
            " Enter a number\n",
            "7\n",
            "5.0\n",
            "False\n"
          ]
        }
      ]
    },
    {
      "cell_type": "code",
      "source": [
        "#10. Write code to demonstrate type casting with list elements"
      ],
      "metadata": {
        "id": "lX6DIIni0LEs"
      },
      "execution_count": 15,
      "outputs": []
    },
    {
      "cell_type": "code",
      "source": [
        "#11.  Write a program that checks if a number is positive, negative, or zero\n",
        "num= int(input(\"Enter a number\"))\n",
        "if num>0:\n",
        "  print(f\"{num} is Positive\")\n",
        "elif num<0:\n",
        "  print(f\"{num} is Negative\")\n",
        "if num==0:\n",
        "  print(f\"{num} is Zero\")"
      ],
      "metadata": {
        "colab": {
          "base_uri": "https://localhost:8080/"
        },
        "id": "R9UMtFsI4aZG",
        "outputId": "7a1cad94-5a93-4305-f992-9ef49635d37e"
      },
      "execution_count": 20,
      "outputs": [
        {
          "output_type": "stream",
          "name": "stdout",
          "text": [
            "Enter a number9\n",
            "9 is Positive\n"
          ]
        }
      ]
    },
    {
      "cell_type": "code",
      "source": [
        "#12.  Write a for loop to print numbers from 1 to 100\n",
        "for i in range(1,101):\n",
        "  print(i,end=\",\")"
      ],
      "metadata": {
        "colab": {
          "base_uri": "https://localhost:8080/"
        },
        "id": "5RkWPrZs58vL",
        "outputId": "09366735-578f-4a15-c80a-9b8bfb2e9510"
      },
      "execution_count": 22,
      "outputs": [
        {
          "output_type": "stream",
          "name": "stdout",
          "text": [
            "1,2,3,4,5,6,7,8,9,10,11,12,13,14,15,16,17,18,19,20,21,22,23,24,25,26,27,28,29,30,31,32,33,34,35,36,37,38,39,40,41,42,43,44,45,46,47,48,49,50,51,52,53,54,55,56,57,58,59,60,61,62,63,64,65,66,67,68,69,70,71,72,73,74,75,76,77,78,79,80,81,82,83,84,85,86,87,88,89,90,91,92,93,94,95,96,97,98,99,100,"
          ]
        }
      ]
    },
    {
      "cell_type": "code",
      "source": [
        "#13. Write a Python program to find the sum of all even numbers between 1 and 500\n",
        "sum=0\n",
        "for i in range(1,500):\n",
        "  if i%2==0:\n",
        "    sum=sum+i\n",
        "print(sum)\n"
      ],
      "metadata": {
        "colab": {
          "base_uri": "https://localhost:8080/"
        },
        "id": "vwVnx74n6R2O",
        "outputId": "97a16270-8986-4e43-e3c2-2460b70363db"
      },
      "execution_count": 25,
      "outputs": [
        {
          "output_type": "stream",
          "name": "stdout",
          "text": [
            "62250\n"
          ]
        }
      ]
    },
    {
      "cell_type": "code",
      "source": [
        "#14. Write a program to reverse a string using a while loop\n",
        "str1=\"Shiva\"\n",
        "str_rev=\"\"\n",
        "i= len(str1)-1\n",
        "while i>=0:\n",
        "  str_rev+=str1[i]\n",
        "  i-=1\n",
        "print(str_rev)\n",
        "\n",
        "\n",
        "\n",
        "\n"
      ],
      "metadata": {
        "colab": {
          "base_uri": "https://localhost:8080/"
        },
        "id": "CpNxygj369zm",
        "outputId": "6ded0cbc-9ec2-4b95-a387-2f8113c23e45"
      },
      "execution_count": 35,
      "outputs": [
        {
          "output_type": "stream",
          "name": "stdout",
          "text": [
            "avihS\n"
          ]
        }
      ]
    },
    {
      "cell_type": "code",
      "source": [
        "#15. Write a Python program to calculate the factorial of a number provided by the user using a while loop.\n",
        "num= int(input(\"Enter a number\"))\n",
        "i=1\n",
        "fact=1\n",
        "while i<=num:\n",
        "  fact*=i\n",
        "  i+=1\n",
        "print(fact)\n",
        "\n",
        "\n",
        "\n"
      ],
      "metadata": {
        "colab": {
          "base_uri": "https://localhost:8080/"
        },
        "id": "eGTjaRBSEe2X",
        "outputId": "0e115d37-4fa9-4359-c97c-81c64f4bce1a"
      },
      "execution_count": 36,
      "outputs": [
        {
          "output_type": "stream",
          "name": "stdout",
          "text": [
            "Enter a number5\n",
            "120\n"
          ]
        }
      ]
    }
  ]
}